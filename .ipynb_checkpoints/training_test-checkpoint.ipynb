{
 "cells": [
  {
   "cell_type": "code",
   "execution_count": 1,
   "id": "ea8bc1cb-b71b-446d-8975-7a7a1858c9a9",
   "metadata": {},
   "outputs": [],
   "source": [
    "import gym\n",
    "import time\n",
    "from gym.envs.registration import register\n",
    "import argparse\n",
    "from ray.rllib.algorithms.ppo import PPOConfig\n",
    "from ray.rllib.connectors.env_to_module import FlattenObservations\n",
    "import MARLlib"
   ]
  },
  {
   "cell_type": "code",
   "execution_count": 2,
   "id": "7ac42a84-5466-4971-9ba2-bf364ba0a1b0",
   "metadata": {},
   "outputs": [],
   "source": [
    "register(\n",
    "            id='multigrid-collect-v0',\n",
    "            entry_point='gym_multigrid.envs:CollectGame4HEnv10x10N2',\n",
    "        )\n",
    "env = gym.make('multigrid-collect-v0')"
   ]
  },
  {
   "cell_type": "code",
   "execution_count": 3,
   "id": "40a41c77-489d-4733-89fb-cc95dbce1e72",
   "metadata": {},
   "outputs": [
    {
     "ename": "ModuleNotFoundError",
     "evalue": "No module named 'marllib'",
     "output_type": "error",
     "traceback": [
      "\u001b[0;31m---------------------------------------------------------------------------\u001b[0m",
      "\u001b[0;31mModuleNotFoundError\u001b[0m                       Traceback (most recent call last)",
      "Cell \u001b[0;32mIn[3], line 2\u001b[0m\n\u001b[1;32m      1\u001b[0m \u001b[38;5;28;01mfrom\u001b[39;00m \u001b[38;5;21;01mMARLlib\u001b[39;00m \u001b[38;5;28;01mimport\u001b[39;00m marllib\n\u001b[0;32m----> 2\u001b[0m \u001b[38;5;28;01mfrom\u001b[39;00m \u001b[38;5;21;01mMARLlib\u001b[39;00m\u001b[38;5;21;01m.\u001b[39;00m\u001b[38;5;21;01mmarllib\u001b[39;00m \u001b[38;5;28;01mimport\u001b[39;00m marl\n\u001b[1;32m      3\u001b[0m \u001b[38;5;28;01mfrom\u001b[39;00m \u001b[38;5;21;01mray\u001b[39;00m \u001b[38;5;28;01mimport\u001b[39;00m tune\n\u001b[1;32m      5\u001b[0m env \u001b[38;5;241m=\u001b[39m marl\u001b[38;5;241m.\u001b[39mmake_env(environment_name\u001b[38;5;241m=\u001b[39m\u001b[38;5;124m\"\u001b[39m\u001b[38;5;124mmpe\u001b[39m\u001b[38;5;124m\"\u001b[39m, map_name\u001b[38;5;241m=\u001b[39m\u001b[38;5;124m\"\u001b[39m\u001b[38;5;124msimple_spread\u001b[39m\u001b[38;5;124m\"\u001b[39m, force_coop\u001b[38;5;241m=\u001b[39m\u001b[38;5;28;01mTrue\u001b[39;00m)\n",
      "File \u001b[0;32m/mnt/c/Users/grays/OneDrive/Desktop/github things/CooperativeBehaviour/MARLlib/marllib/marl/__init__.py:23\u001b[0m\n\u001b[1;32m      1\u001b[0m \u001b[38;5;66;03m# MIT License\u001b[39;00m\n\u001b[1;32m      2\u001b[0m \n\u001b[1;32m      3\u001b[0m \u001b[38;5;66;03m# Copyright (c) 2023 Replicable-MARL\u001b[39;00m\n\u001b[0;32m   (...)\u001b[0m\n\u001b[1;32m     20\u001b[0m \u001b[38;5;66;03m# OUT OF OR IN CONNECTION WITH THE SOFTWARE OR THE USE OR OTHER DEALINGS IN THE\u001b[39;00m\n\u001b[1;32m     21\u001b[0m \u001b[38;5;66;03m# SOFTWARE.\u001b[39;00m\n\u001b[0;32m---> 23\u001b[0m \u001b[38;5;28;01mfrom\u001b[39;00m \u001b[38;5;21;01mmarllib\u001b[39;00m\u001b[38;5;21;01m.\u001b[39;00m\u001b[38;5;21;01mmarl\u001b[39;00m\u001b[38;5;21;01m.\u001b[39;00m\u001b[38;5;21;01mcommon\u001b[39;00m \u001b[38;5;28;01mimport\u001b[39;00m dict_update, get_model_config, check_algo_type, \\\n\u001b[1;32m     24\u001b[0m     recursive_dict_update\n\u001b[1;32m     25\u001b[0m \u001b[38;5;28;01mfrom\u001b[39;00m \u001b[38;5;21;01mmarllib\u001b[39;00m\u001b[38;5;21;01m.\u001b[39;00m\u001b[38;5;21;01mmarl\u001b[39;00m\u001b[38;5;21;01m.\u001b[39;00m\u001b[38;5;21;01malgos\u001b[39;00m \u001b[38;5;28;01mimport\u001b[39;00m run_il, run_vd, run_cc\n\u001b[1;32m     26\u001b[0m \u001b[38;5;28;01mfrom\u001b[39;00m \u001b[38;5;21;01mmarllib\u001b[39;00m\u001b[38;5;21;01m.\u001b[39;00m\u001b[38;5;21;01mmarl\u001b[39;00m\u001b[38;5;21;01m.\u001b[39;00m\u001b[38;5;21;01malgos\u001b[39;00m\u001b[38;5;21;01m.\u001b[39;00m\u001b[38;5;21;01mscripts\u001b[39;00m \u001b[38;5;28;01mimport\u001b[39;00m POlICY_REGISTRY\n",
      "\u001b[0;31mModuleNotFoundError\u001b[0m: No module named 'marllib'"
     ]
    }
   ],
   "source": [
    "from MARLlib import marllib\n",
    "from MARLlib.marllib import marl\n",
    "from ray import tune\n",
    "\n",
    "env = marl.make_env(environment_name=\"mpe\", map_name=\"simple_spread\", force_coop=True)\n",
    "\n",
    "mappo = marl.algos.mappo(hyperparam_source=\"test\", lr=tune.grid_search([0.0005, 0.001]))\n",
    "\n",
    "model = marl.build_model(env, mappo, {\"core_arch\": \"mlp\", \"encode_layer\": tune.grid_search([\"8-16\", \"16-32\"])})"
   ]
  },
  {
   "cell_type": "code",
   "execution_count": 44,
   "id": "5083d3db-8fe4-455e-bf1f-6d4628dc07c2",
   "metadata": {},
   "outputs": [
    {
     "name": "stdout",
     "output_type": "stream",
     "text": [
      "Num Agents =  3\n",
      "Obs shape =  (6, 7, 7)\n"
     ]
    }
   ],
   "source": [
    "_ = env.reset()\n",
    "nb_agents = len(env.agents)\n",
    "\n",
    "for _ in range(1):\n",
    "    #env.render(highlight=True)\n",
    "    time.sleep(0.1)\n",
    "    \n",
    "    ac = [env.action_space.sample() for _ in range(nb_agents)]\n",
    "    #ac = [0] * nb_agents\n",
    "    \n",
    "    obs, _, done, _ = env.step(ac)\n",
    "    print(\"Num Agents = \", len(obs))\n",
    "    print(\"Obs shape = \", obs[0].T.shape)\n",
    "    \n",
    "    if done:\n",
    "        break"
   ]
  },
  {
   "cell_type": "code",
   "execution_count": 45,
   "id": "026a4956-3d10-45fe-a054-a19db61ae57e",
   "metadata": {},
   "outputs": [],
   "source": [
    "# Agent\n",
    "import numpy as np\n",
    "import argparse\n",
    "import gym\n",
    "from mappo.onpolicy.algorithms.r_mappo.r_mappo import R_MAPPO\n",
    "from mappo.onpolicy.algorithms.r_mappo.algorithm.rMAPPOPolicy import R_MAPPOPolicy as policy\n",
    "from mappo.onpolicy.config import get_config"
   ]
  },
  {
   "cell_type": "code",
   "execution_count": 46,
   "id": "48e9fbe4-39e0-4987-850d-7c5b35453203",
   "metadata": {},
   "outputs": [],
   "source": [
    "''' rMAPPOPolicy wants a centralized observation space as well. In this case, what we could do is output the whole grid, but that might\n",
    "cause some unnessessary strife here. It's probably easier in this case to just throw all of the observations into one array.'''\n",
    "\n",
    "obs_shape = obs[0].T.shape\n",
    "obs_shape = gym.spaces.Box(0, 32*32, obs_shape)\n",
    "\n",
    "action_space = gym.spaces.Discrete(3) # One hot encoded action space\n",
    "\n",
    "cent_obs_space = np.array([4, 6, 7, 7])\n",
    "cent_obs_space = gym.spaces.Box(0, 32*32, cent_obs_space)\n",
    "\n",
    "# Gets the default arguments for the policy in question\n",
    "parser = get_config()                        # build the ArgumentParser\n",
    "args   = parser.parse_args([])               # empty list ⇒ use every default\n",
    "#print(vars(args))\n",
    "\n",
    "p = policy(args, obs_space = obs_shape, cent_obs_space = cent_obs_space, act_space = action_space)\n",
    "agent = R_MAPPO(args, policy)"
   ]
  },
  {
   "cell_type": "code",
   "execution_count": null,
   "id": "d3627e1a-bc31-40f0-9bbc-dbee30b5de2a",
   "metadata": {},
   "outputs": [],
   "source": []
  }
 ],
 "metadata": {
  "kernelspec": {
   "display_name": "Python 3 (ipykernel)",
   "language": "python",
   "name": "python3"
  },
  "language_info": {
   "codemirror_mode": {
    "name": "ipython",
    "version": 3
   },
   "file_extension": ".py",
   "mimetype": "text/x-python",
   "name": "python",
   "nbconvert_exporter": "python",
   "pygments_lexer": "ipython3",
   "version": "3.10.12"
  }
 },
 "nbformat": 4,
 "nbformat_minor": 5
}
