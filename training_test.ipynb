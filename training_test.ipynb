{
 "cells": [
  {
   "cell_type": "code",
   "execution_count": 1,
   "id": "845c8771-6109-4df6-8db5-d429db48ff7b",
   "metadata": {},
   "outputs": [
    {
     "name": "stdout",
     "output_type": "stream",
     "text": [
      "/home/tristongrayston/anaconda3/envs/cooperative/bin/python\n",
      "1.9.0+cu102\n",
      "0.22.0\n"
     ]
    },
    {
     "name": "stderr",
     "output_type": "stream",
     "text": [
      "\n"
     ]
    }
   ],
   "source": [
    "import sys, torch, gym\n",
    "print(sys.executable)     # should point into .../envs/cooperative/bin/python\n",
    "#print(marllib.__version__)   # 1.0.3\n",
    "print(torch.__version__)     # 1.9.0 (or whatever you installed)\n",
    "print(gym.__version__)"
   ]
  },
  {
   "cell_type": "code",
   "execution_count": 6,
   "id": "ea8bc1cb-b71b-446d-8975-7a7a1858c9a9",
   "metadata": {},
   "outputs": [],
   "source": [
    "import gym\n",
    "import time\n",
    "from gym.envs.registration import register\n",
    "import argparse\n",
    "import MARLlib"
   ]
  },
  {
   "cell_type": "code",
   "execution_count": 7,
   "id": "7ac42a84-5466-4971-9ba2-bf364ba0a1b0",
   "metadata": {},
   "outputs": [
    {
     "name": "stderr",
     "output_type": "stream",
     "text": [
      "/home/tristongrayston/anaconda3/envs/cooperative/lib/python3.8/site-packages/gym/envs/registration.py:595: UserWarning: \u001b[33mWARN: Overriding environment multigrid-collect-v0\u001b[0m\n",
      "  logger.warn(f\"Overriding environment {id}\")\n"
     ]
    }
   ],
   "source": [
    "register(\n",
    "            id='multigrid-collect-v0',\n",
    "            entry_point='gym_multigrid.envs:CollectGame4HEnv10x10N2',\n",
    "        )\n",
    "env = gym.make('multigrid-collect-v0')"
   ]
  },
  {
   "cell_type": "code",
   "execution_count": 23,
   "id": "40a41c77-489d-4733-89fb-cc95dbce1e72",
   "metadata": {},
   "outputs": [
    {
     "name": "stdout",
     "output_type": "stream",
     "text": [
      "+--------------------+----------------+----------------------------------------------------------------------+----------------------------------------------+-------------------------------------+\n",
      "| Env_Name           | Check_Status   | Error_Log                                                            | Config_File_Location                         | Env_File_Location                   |\n",
      "+====================+================+======================================================================+==============================================+=====================================+\n",
      "| gymnasium_mamujoco | Error          | No module named 'gymnasium_robotics'                                 | envs/base_env/config/gymnasium_mamujoco.yaml | envs/base_env/gymnasium_mamujoco.py |\n",
      "+--------------------+----------------+----------------------------------------------------------------------+----------------------------------------------+-------------------------------------+\n",
      "| mpe                | Ready          | Null                                                                 | envs/base_env/config/mpe.yaml                | envs/base_env/mpe.py                |\n",
      "+--------------------+----------------+----------------------------------------------------------------------+----------------------------------------------+-------------------------------------+\n",
      "| gymnasium_mpe      | Error          | cannot import name 'simple_adversary_v3' from 'pettingzoo.mpe'       | envs/base_env/config/gymnasium_mpe.yaml      | envs/base_env/gymnasium_mpe.py      |\n",
      "+--------------------+----------------+----------------------------------------------------------------------+----------------------------------------------+-------------------------------------+\n",
      "| mamujoco           | Error          | No module named 'multiagent_mujoco'                                  | envs/base_env/config/mamujoco.yaml           | envs/base_env/mamujoco.py           |\n",
      "+--------------------+----------------+----------------------------------------------------------------------+----------------------------------------------+-------------------------------------+\n",
      "| smac               | Error          | No module named 'smac'                                               | envs/base_env/config/smac.yaml               | envs/base_env/smac.py               |\n",
      "+--------------------+----------------+----------------------------------------------------------------------+----------------------------------------------+-------------------------------------+\n",
      "| football           | Error          | No module named 'gfootball'                                          | envs/base_env/config/football.yaml           | envs/base_env/football.py           |\n",
      "+--------------------+----------------+----------------------------------------------------------------------+----------------------------------------------+-------------------------------------+\n",
      "| magent             | Error          | cannot import name 'adversarial_pursuit_v3' from 'pettingzoo.magent' | envs/base_env/config/magent.yaml             | envs/base_env/magent.py             |\n",
      "+--------------------+----------------+----------------------------------------------------------------------+----------------------------------------------+-------------------------------------+\n",
      "| rware              | Error          | No module named 'rware'                                              | envs/base_env/config/rware.yaml              | envs/base_env/rware.py              |\n",
      "+--------------------+----------------+----------------------------------------------------------------------+----------------------------------------------+-------------------------------------+\n",
      "| lbf                | Error          | No module named 'lbforaging'                                         | envs/base_env/config/lbf.yaml                | envs/base_env/lbf.py                |\n",
      "+--------------------+----------------+----------------------------------------------------------------------+----------------------------------------------+-------------------------------------+\n",
      "| pommerman          | Error          | No module named 'pommerman'                                          | envs/base_env/config/pommerman.yaml          | envs/base_env/pommerman.py          |\n",
      "+--------------------+----------------+----------------------------------------------------------------------+----------------------------------------------+-------------------------------------+\n",
      "| hanabi             | Error          | No module named 'cffi'                                               | envs/base_env/config/hanabi.yaml             | envs/base_env/hanabi.py             |\n",
      "+--------------------+----------------+----------------------------------------------------------------------+----------------------------------------------+-------------------------------------+\n",
      "| metadrive          | Error          | No module named 'metadrive'                                          | envs/base_env/config/metadrive.yaml          | envs/base_env/metadrive.py          |\n",
      "+--------------------+----------------+----------------------------------------------------------------------+----------------------------------------------+-------------------------------------+\n",
      "| mate               | Error          | No module named 'mate'                                               | envs/base_env/config/mate.yaml               | envs/base_env/mate.py               |\n",
      "+--------------------+----------------+----------------------------------------------------------------------+----------------------------------------------+-------------------------------------+\n",
      "| gobigger           | Error          | No module named 'gobigger'                                           | envs/base_env/config/gobigger.yaml           | envs/base_env/gobigger.py           |\n",
      "+--------------------+----------------+----------------------------------------------------------------------+----------------------------------------------+-------------------------------------+\n",
      "| overcooked         | Error          | No module named 'overcooked_ai_py'                                   | envs/base_env/config/overcooked.yaml         | envs/base_env/overcooked.py         |\n",
      "+--------------------+----------------+----------------------------------------------------------------------+----------------------------------------------+-------------------------------------+\n",
      "| voltage            | Error          | No module named 'pandapower'                                         | envs/base_env/config/voltage.yaml            | envs/base_env/voltage.py            |\n",
      "+--------------------+----------------+----------------------------------------------------------------------+----------------------------------------------+-------------------------------------+\n",
      "| aircombat          | Error          | No module named 'jsbsim'                                             | envs/base_env/config/aircombat.yaml          | envs/base_env/aircombat.py          |\n",
      "+--------------------+----------------+----------------------------------------------------------------------+----------------------------------------------+-------------------------------------+\n",
      "| hns                | Error          | No module named 'mujoco_worldgen'                                    | envs/base_env/config/hns.yaml                | envs/base_env/hns.py                |\n",
      "+--------------------+----------------+----------------------------------------------------------------------+----------------------------------------------+-------------------------------------+\n",
      "| sisl               | Error          | cannot import name 'multiwalker_v7' from 'pettingzoo.sisl'           | envs/base_env/config/sisl.yaml               | envs/base_env/sisl.py               |\n",
      "+--------------------+----------------+----------------------------------------------------------------------+----------------------------------------------+-------------------------------------+\n"
     ]
    }
   ],
   "source": [
    "from MARLlib.marllib import marl\n",
    "from ray import tune\n",
    "import ray\n",
    "\n",
    "env = marl.make_env(environment_name=\"mpe\", map_name=\"simple_spread\", force_coop=True)\n",
    "\n",
    "mappo = marl.algos.mappo(hyperparam_source=\"test\", lr=tune.grid_search([0.0005, 0.001]))\n",
    "\n",
    "model = marl.build_model(env, mappo, {\"core_arch\": \"mlp\", \"encode_layer\": tune.grid_search([\"8-16\", \"16-32\"])})"
   ]
  },
  {
   "cell_type": "code",
   "execution_count": 26,
   "id": "4346739f-567c-49e9-a203-288c577fca3e",
   "metadata": {},
   "outputs": [
    {
     "ename": "ValueError",
     "evalue": "Attempting to start raylet with 1 GPUs, but CUDA_VISIBLE_DEVICES contains [].",
     "output_type": "error",
     "traceback": [
      "\u001b[0;31m---------------------------------------------------------------------------\u001b[0m",
      "\u001b[0;31mValueError\u001b[0m                                Traceback (most recent call last)",
      "File \u001b[0;32m/tmp/ipykernel_31119/3760296984.py:1\u001b[0m\n\u001b[0;32m----> 1\u001b[0m \u001b[43mmappo\u001b[49m\u001b[38;5;241;43m.\u001b[39;49m\u001b[43mfit\u001b[49m\u001b[43m(\u001b[49m\u001b[43menv\u001b[49m\u001b[43m,\u001b[49m\u001b[43m \u001b[49m\u001b[43mmodel\u001b[49m\u001b[43m,\u001b[49m\u001b[43m \u001b[49m\u001b[43mstop\u001b[49m\u001b[38;5;241;43m=\u001b[39;49m\u001b[43m{\u001b[49m\u001b[38;5;124;43m\"\u001b[39;49m\u001b[38;5;124;43mtimesteps_total\u001b[39;49m\u001b[38;5;124;43m\"\u001b[39;49m\u001b[43m:\u001b[49m\u001b[43m \u001b[49m\u001b[38;5;241;43m1000000\u001b[39;49m\u001b[43m}\u001b[49m\u001b[43m,\u001b[49m\u001b[43m \u001b[49m\u001b[43mcheckpoint_freq\u001b[49m\u001b[38;5;241;43m=\u001b[39;49m\u001b[38;5;241;43m100\u001b[39;49m\u001b[43m,\u001b[49m\u001b[43m \u001b[49m\u001b[43mshare_policy\u001b[49m\u001b[38;5;241;43m=\u001b[39;49m\u001b[38;5;124;43m\"\u001b[39;49m\u001b[38;5;124;43mgroup\u001b[39;49m\u001b[38;5;124;43m\"\u001b[39;49m\u001b[43m)\u001b[49m\n",
      "File \u001b[0;32m/mnt/c/Users/grays/OneDrive/Desktop/github things/CooperativeBehaviour/MARLlib/marllib/marl/__init__.py:316\u001b[0m, in \u001b[0;36m_Algo.fit\u001b[0;34m(self, env, model, stop, **running_params)\u001b[0m\n\u001b[1;32m    314\u001b[0m     \u001b[38;5;28;01mreturn\u001b[39;00m run_vd(\u001b[38;5;28mself\u001b[39m\u001b[38;5;241m.\u001b[39mconfig_dict, env_instance, model_class, stop\u001b[38;5;241m=\u001b[39mstop)\n\u001b[1;32m    315\u001b[0m \u001b[38;5;28;01melif\u001b[39;00m \u001b[38;5;28mself\u001b[39m\u001b[38;5;241m.\u001b[39malgo_type \u001b[38;5;241m==\u001b[39m \u001b[38;5;124m\"\u001b[39m\u001b[38;5;124mCC\u001b[39m\u001b[38;5;124m\"\u001b[39m:\n\u001b[0;32m--> 316\u001b[0m     \u001b[38;5;28;01mreturn\u001b[39;00m \u001b[43mrun_cc\u001b[49m\u001b[43m(\u001b[49m\u001b[38;5;28;43mself\u001b[39;49m\u001b[38;5;241;43m.\u001b[39;49m\u001b[43mconfig_dict\u001b[49m\u001b[43m,\u001b[49m\u001b[43m \u001b[49m\u001b[43menv_instance\u001b[49m\u001b[43m,\u001b[49m\u001b[43m \u001b[49m\u001b[43mmodel_class\u001b[49m\u001b[43m,\u001b[49m\u001b[43m \u001b[49m\u001b[43mstop\u001b[49m\u001b[38;5;241;43m=\u001b[39;49m\u001b[43mstop\u001b[49m\u001b[43m)\u001b[49m\n\u001b[1;32m    317\u001b[0m \u001b[38;5;28;01melse\u001b[39;00m:\n\u001b[1;32m    318\u001b[0m     \u001b[38;5;28;01mraise\u001b[39;00m \u001b[38;5;167;01mValueError\u001b[39;00m(\u001b[38;5;124m\"\u001b[39m\u001b[38;5;124mnot supported type \u001b[39m\u001b[38;5;132;01m{}\u001b[39;00m\u001b[38;5;124m\"\u001b[39m\u001b[38;5;241m.\u001b[39mformat(\u001b[38;5;28mself\u001b[39m\u001b[38;5;241m.\u001b[39malgo_type))\n",
      "File \u001b[0;32m/mnt/c/Users/grays/OneDrive/Desktop/github things/CooperativeBehaviour/MARLlib/marllib/marl/algos/run_cc.py:62\u001b[0m, in \u001b[0;36mrun_cc\u001b[0;34m(exp_info, env, model, stop)\u001b[0m\n\u001b[1;32m     61\u001b[0m \u001b[38;5;28;01mdef\u001b[39;00m\u001b[38;5;250m \u001b[39m\u001b[38;5;21mrun_cc\u001b[39m(exp_info, env, model, stop\u001b[38;5;241m=\u001b[39m\u001b[38;5;28;01mNone\u001b[39;00m):\n\u001b[0;32m---> 62\u001b[0m     \u001b[43mray\u001b[49m\u001b[38;5;241;43m.\u001b[39;49m\u001b[43minit\u001b[49m\u001b[43m(\u001b[49m\u001b[43mlocal_mode\u001b[49m\u001b[38;5;241;43m=\u001b[39;49m\u001b[43mexp_info\u001b[49m\u001b[43m[\u001b[49m\u001b[38;5;124;43m\"\u001b[39;49m\u001b[38;5;124;43mlocal_mode\u001b[39;49m\u001b[38;5;124;43m\"\u001b[39;49m\u001b[43m]\u001b[49m\u001b[43m,\u001b[49m\u001b[43m \u001b[49m\u001b[43mnum_gpus\u001b[49m\u001b[38;5;241;43m=\u001b[39;49m\u001b[43mexp_info\u001b[49m\u001b[43m[\u001b[49m\u001b[38;5;124;43m\"\u001b[39;49m\u001b[38;5;124;43mnum_gpus\u001b[39;49m\u001b[38;5;124;43m\"\u001b[39;49m\u001b[43m]\u001b[49m\u001b[43m)\u001b[49m\n\u001b[1;32m     64\u001b[0m     \u001b[38;5;66;03m########################\u001b[39;00m\n\u001b[1;32m     65\u001b[0m     \u001b[38;5;66;03m### environment info ###\u001b[39;00m\n\u001b[1;32m     66\u001b[0m     \u001b[38;5;66;03m########################\u001b[39;00m\n\u001b[1;32m     68\u001b[0m     env_info \u001b[38;5;241m=\u001b[39m env\u001b[38;5;241m.\u001b[39mget_env_info()\n",
      "File \u001b[0;32m~/anaconda3/envs/cooperative/lib/python3.8/site-packages/ray/_private/client_mode_hook.py:105\u001b[0m, in \u001b[0;36mclient_mode_hook.<locals>.wrapper\u001b[0;34m(*args, **kwargs)\u001b[0m\n\u001b[1;32m    103\u001b[0m     \u001b[38;5;28;01mif\u001b[39;00m func\u001b[38;5;241m.\u001b[39m\u001b[38;5;18m__name__\u001b[39m \u001b[38;5;241m!=\u001b[39m \u001b[38;5;124m\"\u001b[39m\u001b[38;5;124minit\u001b[39m\u001b[38;5;124m\"\u001b[39m \u001b[38;5;129;01mor\u001b[39;00m is_client_mode_enabled_by_default:\n\u001b[1;32m    104\u001b[0m         \u001b[38;5;28;01mreturn\u001b[39;00m \u001b[38;5;28mgetattr\u001b[39m(ray, func\u001b[38;5;241m.\u001b[39m\u001b[38;5;18m__name__\u001b[39m)(\u001b[38;5;241m*\u001b[39margs, \u001b[38;5;241m*\u001b[39m\u001b[38;5;241m*\u001b[39mkwargs)\n\u001b[0;32m--> 105\u001b[0m \u001b[38;5;28;01mreturn\u001b[39;00m \u001b[43mfunc\u001b[49m\u001b[43m(\u001b[49m\u001b[38;5;241;43m*\u001b[39;49m\u001b[43margs\u001b[49m\u001b[43m,\u001b[49m\u001b[43m \u001b[49m\u001b[38;5;241;43m*\u001b[39;49m\u001b[38;5;241;43m*\u001b[39;49m\u001b[43mkwargs\u001b[49m\u001b[43m)\u001b[49m\n",
      "File \u001b[0;32m~/anaconda3/envs/cooperative/lib/python3.8/site-packages/ray/worker.py:888\u001b[0m, in \u001b[0;36minit\u001b[0;34m(address, num_cpus, num_gpus, resources, object_store_memory, local_mode, ignore_reinit_error, include_dashboard, dashboard_host, dashboard_port, job_config, configure_logging, logging_level, logging_format, log_to_driver, namespace, runtime_env, _enable_object_reconstruction, _redis_max_memory, _plasma_directory, _node_ip_address, _driver_object_store_memory, _memory, _redis_password, _temp_dir, _metrics_export_port, _system_config, _tracing_startup_hook, **kwargs)\u001b[0m\n\u001b[1;32m    848\u001b[0m     ray_params \u001b[38;5;241m=\u001b[39m ray\u001b[38;5;241m.\u001b[39m_private\u001b[38;5;241m.\u001b[39mparameter\u001b[38;5;241m.\u001b[39mRayParams(\n\u001b[1;32m    849\u001b[0m         redis_address\u001b[38;5;241m=\u001b[39mredis_address,\n\u001b[1;32m    850\u001b[0m         node_ip_address\u001b[38;5;241m=\u001b[39mnode_ip_address,\n\u001b[0;32m   (...)\u001b[0m\n\u001b[1;32m    882\u001b[0m         metrics_export_port\u001b[38;5;241m=\u001b[39m_metrics_export_port,\n\u001b[1;32m    883\u001b[0m         tracing_startup_hook\u001b[38;5;241m=\u001b[39m_tracing_startup_hook)\n\u001b[1;32m    884\u001b[0m     \u001b[38;5;66;03m# Start the Ray processes. We set shutdown_at_exit=False because we\u001b[39;00m\n\u001b[1;32m    885\u001b[0m     \u001b[38;5;66;03m# shutdown the node in the ray.shutdown call that happens in the atexit\u001b[39;00m\n\u001b[1;32m    886\u001b[0m     \u001b[38;5;66;03m# handler. We still spawn a reaper process in case the atexit handler\u001b[39;00m\n\u001b[1;32m    887\u001b[0m     \u001b[38;5;66;03m# isn't called.\u001b[39;00m\n\u001b[0;32m--> 888\u001b[0m     _global_node \u001b[38;5;241m=\u001b[39m \u001b[43mray\u001b[49m\u001b[38;5;241;43m.\u001b[39;49m\u001b[43mnode\u001b[49m\u001b[38;5;241;43m.\u001b[39;49m\u001b[43mNode\u001b[49m\u001b[43m(\u001b[49m\n\u001b[1;32m    889\u001b[0m \u001b[43m        \u001b[49m\u001b[43mhead\u001b[49m\u001b[38;5;241;43m=\u001b[39;49m\u001b[38;5;28;43;01mTrue\u001b[39;49;00m\u001b[43m,\u001b[49m\n\u001b[1;32m    890\u001b[0m \u001b[43m        \u001b[49m\u001b[43mshutdown_at_exit\u001b[49m\u001b[38;5;241;43m=\u001b[39;49m\u001b[38;5;28;43;01mFalse\u001b[39;49;00m\u001b[43m,\u001b[49m\n\u001b[1;32m    891\u001b[0m \u001b[43m        \u001b[49m\u001b[43mspawn_reaper\u001b[49m\u001b[38;5;241;43m=\u001b[39;49m\u001b[38;5;28;43;01mTrue\u001b[39;49;00m\u001b[43m,\u001b[49m\n\u001b[1;32m    892\u001b[0m \u001b[43m        \u001b[49m\u001b[43mray_params\u001b[49m\u001b[38;5;241;43m=\u001b[39;49m\u001b[43mray_params\u001b[49m\u001b[43m)\u001b[49m\n\u001b[1;32m    893\u001b[0m \u001b[38;5;28;01melse\u001b[39;00m:\n\u001b[1;32m    894\u001b[0m     \u001b[38;5;66;03m# In this case, we are connecting to an existing cluster.\u001b[39;00m\n\u001b[1;32m    895\u001b[0m     \u001b[38;5;28;01mif\u001b[39;00m num_cpus \u001b[38;5;129;01mis\u001b[39;00m \u001b[38;5;129;01mnot\u001b[39;00m \u001b[38;5;28;01mNone\u001b[39;00m \u001b[38;5;129;01mor\u001b[39;00m num_gpus \u001b[38;5;129;01mis\u001b[39;00m \u001b[38;5;129;01mnot\u001b[39;00m \u001b[38;5;28;01mNone\u001b[39;00m:\n",
      "File \u001b[0;32m~/anaconda3/envs/cooperative/lib/python3.8/site-packages/ray/node.py:248\u001b[0m, in \u001b[0;36mNode.__init__\u001b[0;34m(self, ray_params, head, shutdown_at_exit, spawn_reaper, connect_only)\u001b[0m\n\u001b[1;32m    246\u001b[0m \u001b[38;5;66;03m# Start processes.\u001b[39;00m\n\u001b[1;32m    247\u001b[0m \u001b[38;5;28;01mif\u001b[39;00m head:\n\u001b[0;32m--> 248\u001b[0m     \u001b[38;5;28;43mself\u001b[39;49m\u001b[38;5;241;43m.\u001b[39;49m\u001b[43mstart_head_processes\u001b[49m\u001b[43m(\u001b[49m\u001b[43m)\u001b[49m\n\u001b[1;32m    249\u001b[0m     redis_client \u001b[38;5;241m=\u001b[39m \u001b[38;5;28mself\u001b[39m\u001b[38;5;241m.\u001b[39mcreate_redis_client()\n\u001b[1;32m    250\u001b[0m     redis_client\u001b[38;5;241m.\u001b[39mset(\u001b[38;5;124m\"\u001b[39m\u001b[38;5;124msession_name\u001b[39m\u001b[38;5;124m\"\u001b[39m, \u001b[38;5;28mself\u001b[39m\u001b[38;5;241m.\u001b[39msession_name)\n",
      "File \u001b[0;32m~/anaconda3/envs/cooperative/lib/python3.8/site-packages/ray/node.py:905\u001b[0m, in \u001b[0;36mNode.start_head_processes\u001b[0;34m(self)\u001b[0m\n\u001b[1;32m    903\u001b[0m \u001b[38;5;28;01massert\u001b[39;00m \u001b[38;5;28mself\u001b[39m\u001b[38;5;241m.\u001b[39m_redis_address \u001b[38;5;129;01mis\u001b[39;00m \u001b[38;5;28;01mNone\u001b[39;00m\n\u001b[1;32m    904\u001b[0m \u001b[38;5;66;03m# If this is the head node, start the relevant head node processes.\u001b[39;00m\n\u001b[0;32m--> 905\u001b[0m \u001b[38;5;28;43mself\u001b[39;49m\u001b[38;5;241;43m.\u001b[39;49m\u001b[43mstart_redis\u001b[49m\u001b[43m(\u001b[49m\u001b[43m)\u001b[49m\n\u001b[1;32m    907\u001b[0m \u001b[38;5;28mself\u001b[39m\u001b[38;5;241m.\u001b[39mstart_gcs_server()\n\u001b[1;32m    909\u001b[0m \u001b[38;5;28;01mif\u001b[39;00m \u001b[38;5;129;01mnot\u001b[39;00m \u001b[38;5;28mself\u001b[39m\u001b[38;5;241m.\u001b[39m_ray_params\u001b[38;5;241m.\u001b[39mno_monitor:\n",
      "File \u001b[0;32m~/anaconda3/envs/cooperative/lib/python3.8/site-packages/ray/node.py:715\u001b[0m, in \u001b[0;36mNode.start_redis\u001b[0;34m(self)\u001b[0m\n\u001b[1;32m    707\u001b[0m     \u001b[38;5;28;01mfor\u001b[39;00m i \u001b[38;5;129;01min\u001b[39;00m \u001b[38;5;28mrange\u001b[39m(\u001b[38;5;28mself\u001b[39m\u001b[38;5;241m.\u001b[39m_ray_params\u001b[38;5;241m.\u001b[39mnum_redis_shards):\n\u001b[1;32m    708\u001b[0m         redis_log_files\u001b[38;5;241m.\u001b[39mappend(\n\u001b[1;32m    709\u001b[0m             \u001b[38;5;28mself\u001b[39m\u001b[38;5;241m.\u001b[39mget_log_file_handles(\u001b[38;5;124mf\u001b[39m\u001b[38;5;124m\"\u001b[39m\u001b[38;5;124mredis-shard_\u001b[39m\u001b[38;5;132;01m{\u001b[39;00mi\u001b[38;5;132;01m}\u001b[39;00m\u001b[38;5;124m\"\u001b[39m, unique\u001b[38;5;241m=\u001b[39m\u001b[38;5;28;01mTrue\u001b[39;00m))\n\u001b[1;32m    711\u001b[0m (\u001b[38;5;28mself\u001b[39m\u001b[38;5;241m.\u001b[39m_redis_address, redis_shards,\n\u001b[1;32m    712\u001b[0m  process_infos) \u001b[38;5;241m=\u001b[39m ray\u001b[38;5;241m.\u001b[39m_private\u001b[38;5;241m.\u001b[39mservices\u001b[38;5;241m.\u001b[39mstart_redis(\n\u001b[1;32m    713\u001b[0m      \u001b[38;5;28mself\u001b[39m\u001b[38;5;241m.\u001b[39m_node_ip_address,\n\u001b[1;32m    714\u001b[0m      redis_log_files,\n\u001b[0;32m--> 715\u001b[0m      \u001b[38;5;28;43mself\u001b[39;49m\u001b[38;5;241;43m.\u001b[39;49m\u001b[43mget_resource_spec\u001b[49m\u001b[43m(\u001b[49m\u001b[43m)\u001b[49m,\n\u001b[1;32m    716\u001b[0m      port\u001b[38;5;241m=\u001b[39m\u001b[38;5;28mself\u001b[39m\u001b[38;5;241m.\u001b[39m_ray_params\u001b[38;5;241m.\u001b[39mredis_port,\n\u001b[1;32m    717\u001b[0m      redis_shard_ports\u001b[38;5;241m=\u001b[39m\u001b[38;5;28mself\u001b[39m\u001b[38;5;241m.\u001b[39m_ray_params\u001b[38;5;241m.\u001b[39mredis_shard_ports,\n\u001b[1;32m    718\u001b[0m      num_redis_shards\u001b[38;5;241m=\u001b[39m\u001b[38;5;28mself\u001b[39m\u001b[38;5;241m.\u001b[39m_ray_params\u001b[38;5;241m.\u001b[39mnum_redis_shards,\n\u001b[1;32m    719\u001b[0m      redis_max_clients\u001b[38;5;241m=\u001b[39m\u001b[38;5;28mself\u001b[39m\u001b[38;5;241m.\u001b[39m_ray_params\u001b[38;5;241m.\u001b[39mredis_max_clients,\n\u001b[1;32m    720\u001b[0m      redirect_worker_output\u001b[38;5;241m=\u001b[39m\u001b[38;5;28;01mTrue\u001b[39;00m,\n\u001b[1;32m    721\u001b[0m      password\u001b[38;5;241m=\u001b[39m\u001b[38;5;28mself\u001b[39m\u001b[38;5;241m.\u001b[39m_ray_params\u001b[38;5;241m.\u001b[39mredis_password,\n\u001b[1;32m    722\u001b[0m      fate_share\u001b[38;5;241m=\u001b[39m\u001b[38;5;28mself\u001b[39m\u001b[38;5;241m.\u001b[39mkernel_fate_share,\n\u001b[1;32m    723\u001b[0m      external_addresses\u001b[38;5;241m=\u001b[39m\u001b[38;5;28mself\u001b[39m\u001b[38;5;241m.\u001b[39m_ray_params\u001b[38;5;241m.\u001b[39mexternal_addresses,\n\u001b[1;32m    724\u001b[0m      port_denylist\u001b[38;5;241m=\u001b[39m\u001b[38;5;28mself\u001b[39m\u001b[38;5;241m.\u001b[39m_ray_params\u001b[38;5;241m.\u001b[39mreserved_ports)\n\u001b[1;32m    725\u001b[0m \u001b[38;5;28;01massert\u001b[39;00m (\n\u001b[1;32m    726\u001b[0m     ray_constants\u001b[38;5;241m.\u001b[39mPROCESS_TYPE_REDIS_SERVER \u001b[38;5;129;01mnot\u001b[39;00m \u001b[38;5;129;01min\u001b[39;00m \u001b[38;5;28mself\u001b[39m\u001b[38;5;241m.\u001b[39mall_processes)\n\u001b[1;32m    727\u001b[0m \u001b[38;5;28mself\u001b[39m\u001b[38;5;241m.\u001b[39mall_processes[ray_constants\u001b[38;5;241m.\u001b[39mPROCESS_TYPE_REDIS_SERVER] \u001b[38;5;241m=\u001b[39m (\n\u001b[1;32m    728\u001b[0m     process_infos)\n",
      "File \u001b[0;32m~/anaconda3/envs/cooperative/lib/python3.8/site-packages/ray/node.py:368\u001b[0m, in \u001b[0;36mNode.get_resource_spec\u001b[0;34m(self)\u001b[0m\n\u001b[1;32m    364\u001b[0m         logger\u001b[38;5;241m.\u001b[39mdebug(\n\u001b[1;32m    365\u001b[0m             \u001b[38;5;124mf\u001b[39m\u001b[38;5;124m\"\u001b[39m\u001b[38;5;124mAutoscaler overriding resources: \u001b[39m\u001b[38;5;132;01m{\u001b[39;00menv_resources\u001b[38;5;132;01m}\u001b[39;00m\u001b[38;5;124m.\u001b[39m\u001b[38;5;124m\"\u001b[39m)\n\u001b[1;32m    366\u001b[0m     num_cpus, num_gpus, memory, object_store_memory, resources \u001b[38;5;241m=\u001b[39m \\\n\u001b[1;32m    367\u001b[0m         merge_resources(env_resources, \u001b[38;5;28mself\u001b[39m\u001b[38;5;241m.\u001b[39m_ray_params\u001b[38;5;241m.\u001b[39mresources)\n\u001b[0;32m--> 368\u001b[0m     \u001b[38;5;28mself\u001b[39m\u001b[38;5;241m.\u001b[39m_resource_spec \u001b[38;5;241m=\u001b[39m \u001b[43mResourceSpec\u001b[49m\u001b[43m(\u001b[49m\n\u001b[1;32m    369\u001b[0m \u001b[43m        \u001b[49m\u001b[38;5;28;43mself\u001b[39;49m\u001b[38;5;241;43m.\u001b[39;49m\u001b[43m_ray_params\u001b[49m\u001b[38;5;241;43m.\u001b[39;49m\u001b[43mnum_cpus\u001b[49m\n\u001b[1;32m    370\u001b[0m \u001b[43m        \u001b[49m\u001b[38;5;28;43;01mif\u001b[39;49;00m\u001b[43m \u001b[49m\u001b[43mnum_cpus\u001b[49m\u001b[43m \u001b[49m\u001b[38;5;129;43;01mis\u001b[39;49;00m\u001b[43m \u001b[49m\u001b[38;5;28;43;01mNone\u001b[39;49;00m\u001b[43m \u001b[49m\u001b[38;5;28;43;01melse\u001b[39;49;00m\u001b[43m \u001b[49m\u001b[43mnum_cpus\u001b[49m\u001b[43m,\u001b[49m\u001b[43m \u001b[49m\u001b[38;5;28;43mself\u001b[39;49m\u001b[38;5;241;43m.\u001b[39;49m\u001b[43m_ray_params\u001b[49m\u001b[38;5;241;43m.\u001b[39;49m\u001b[43mnum_gpus\u001b[49m\n\u001b[1;32m    371\u001b[0m \u001b[43m        \u001b[49m\u001b[38;5;28;43;01mif\u001b[39;49;00m\u001b[43m \u001b[49m\u001b[43mnum_gpus\u001b[49m\u001b[43m \u001b[49m\u001b[38;5;129;43;01mis\u001b[39;49;00m\u001b[43m \u001b[49m\u001b[38;5;28;43;01mNone\u001b[39;49;00m\u001b[43m \u001b[49m\u001b[38;5;28;43;01melse\u001b[39;49;00m\u001b[43m \u001b[49m\u001b[43mnum_gpus\u001b[49m\u001b[43m,\u001b[49m\u001b[43m \u001b[49m\u001b[38;5;28;43mself\u001b[39;49m\u001b[38;5;241;43m.\u001b[39;49m\u001b[43m_ray_params\u001b[49m\u001b[38;5;241;43m.\u001b[39;49m\u001b[43mmemory\u001b[49m\n\u001b[1;32m    372\u001b[0m \u001b[43m        \u001b[49m\u001b[38;5;28;43;01mif\u001b[39;49;00m\u001b[43m \u001b[49m\u001b[43mmemory\u001b[49m\u001b[43m \u001b[49m\u001b[38;5;129;43;01mis\u001b[39;49;00m\u001b[43m \u001b[49m\u001b[38;5;28;43;01mNone\u001b[39;49;00m\u001b[43m \u001b[49m\u001b[38;5;28;43;01melse\u001b[39;49;00m\u001b[43m \u001b[49m\u001b[43mmemory\u001b[49m\u001b[43m,\u001b[49m\n\u001b[1;32m    373\u001b[0m \u001b[43m        \u001b[49m\u001b[38;5;28;43mself\u001b[39;49m\u001b[38;5;241;43m.\u001b[39;49m\u001b[43m_ray_params\u001b[49m\u001b[38;5;241;43m.\u001b[39;49m\u001b[43mobject_store_memory\u001b[49m\n\u001b[1;32m    374\u001b[0m \u001b[43m        \u001b[49m\u001b[38;5;28;43;01mif\u001b[39;49;00m\u001b[43m \u001b[49m\u001b[43mobject_store_memory\u001b[49m\u001b[43m \u001b[49m\u001b[38;5;129;43;01mis\u001b[39;49;00m\u001b[43m \u001b[49m\u001b[38;5;28;43;01mNone\u001b[39;49;00m\u001b[43m \u001b[49m\u001b[38;5;28;43;01melse\u001b[39;49;00m\u001b[43m \u001b[49m\u001b[43mobject_store_memory\u001b[49m\u001b[43m,\u001b[49m\n\u001b[1;32m    375\u001b[0m \u001b[43m        \u001b[49m\u001b[43mresources\u001b[49m\u001b[43m,\u001b[49m\u001b[43m \u001b[49m\u001b[38;5;28;43mself\u001b[39;49m\u001b[38;5;241;43m.\u001b[39;49m\u001b[43m_ray_params\u001b[49m\u001b[38;5;241;43m.\u001b[39;49m\u001b[43mredis_max_memory\u001b[49m\u001b[43m)\u001b[49m\u001b[38;5;241;43m.\u001b[39;49m\u001b[43mresolve\u001b[49m\u001b[43m(\u001b[49m\n\u001b[1;32m    376\u001b[0m \u001b[43m            \u001b[49m\u001b[43mis_head\u001b[49m\u001b[38;5;241;43m=\u001b[39;49m\u001b[38;5;28;43mself\u001b[39;49m\u001b[38;5;241;43m.\u001b[39;49m\u001b[43mhead\u001b[49m\u001b[43m,\u001b[49m\u001b[43m \u001b[49m\u001b[43mnode_ip_address\u001b[49m\u001b[38;5;241;43m=\u001b[39;49m\u001b[38;5;28;43mself\u001b[39;49m\u001b[38;5;241;43m.\u001b[39;49m\u001b[43mnode_ip_address\u001b[49m\u001b[43m)\u001b[49m\n\u001b[1;32m    377\u001b[0m \u001b[38;5;28;01mreturn\u001b[39;00m \u001b[38;5;28mself\u001b[39m\u001b[38;5;241m.\u001b[39m_resource_spec\n",
      "File \u001b[0;32m~/anaconda3/envs/cooperative/lib/python3.8/site-packages/ray/_private/resource_spec.py:144\u001b[0m, in \u001b[0;36mResourceSpec.resolve\u001b[0;34m(self, is_head, node_ip_address)\u001b[0m\n\u001b[1;32m    140\u001b[0m \u001b[38;5;66;03m# Check that the number of GPUs that the raylet wants doesn't\u001b[39;00m\n\u001b[1;32m    141\u001b[0m \u001b[38;5;66;03m# exceed the amount allowed by CUDA_VISIBLE_DEVICES.\u001b[39;00m\n\u001b[1;32m    142\u001b[0m \u001b[38;5;28;01mif\u001b[39;00m (num_gpus \u001b[38;5;129;01mis\u001b[39;00m \u001b[38;5;129;01mnot\u001b[39;00m \u001b[38;5;28;01mNone\u001b[39;00m \u001b[38;5;129;01mand\u001b[39;00m gpu_ids \u001b[38;5;129;01mis\u001b[39;00m \u001b[38;5;129;01mnot\u001b[39;00m \u001b[38;5;28;01mNone\u001b[39;00m\n\u001b[1;32m    143\u001b[0m         \u001b[38;5;129;01mand\u001b[39;00m num_gpus \u001b[38;5;241m>\u001b[39m \u001b[38;5;28mlen\u001b[39m(gpu_ids)):\n\u001b[0;32m--> 144\u001b[0m     \u001b[38;5;28;01mraise\u001b[39;00m \u001b[38;5;167;01mValueError\u001b[39;00m(\u001b[38;5;124m\"\u001b[39m\u001b[38;5;124mAttempting to start raylet with \u001b[39m\u001b[38;5;132;01m{}\u001b[39;00m\u001b[38;5;124m GPUs, \u001b[39m\u001b[38;5;124m\"\u001b[39m\n\u001b[1;32m    145\u001b[0m                      \u001b[38;5;124m\"\u001b[39m\u001b[38;5;124mbut CUDA_VISIBLE_DEVICES contains \u001b[39m\u001b[38;5;132;01m{}\u001b[39;00m\u001b[38;5;124m.\u001b[39m\u001b[38;5;124m\"\u001b[39m\u001b[38;5;241m.\u001b[39mformat(\n\u001b[1;32m    146\u001b[0m                          num_gpus, gpu_ids))\n\u001b[1;32m    147\u001b[0m \u001b[38;5;28;01mif\u001b[39;00m num_gpus \u001b[38;5;129;01mis\u001b[39;00m \u001b[38;5;28;01mNone\u001b[39;00m:\n\u001b[1;32m    148\u001b[0m     \u001b[38;5;66;03m# Try to automatically detect the number of GPUs.\u001b[39;00m\n\u001b[1;32m    149\u001b[0m     num_gpus \u001b[38;5;241m=\u001b[39m _autodetect_num_gpus()\n",
      "\u001b[0;31mValueError\u001b[0m: Attempting to start raylet with 1 GPUs, but CUDA_VISIBLE_DEVICES contains []."
     ]
    }
   ],
   "source": [
    "mappo.fit(env, model, stop={\"timesteps_total\": 1000000}, checkpoint_freq=100, share_policy=\"group\")"
   ]
  },
  {
   "cell_type": "code",
   "execution_count": 25,
   "id": "5b5f6cef-63c6-442a-93e9-854aa67c5477",
   "metadata": {},
   "outputs": [],
   "source": [
    "ray.shutdown()"
   ]
  },
  {
   "cell_type": "code",
   "execution_count": null,
   "id": "77c08fc8-2bca-4289-a0b6-941d3a5f693f",
   "metadata": {},
   "outputs": [],
   "source": [
    "# A start and maybe a fun gif\n",
    "from ray.tune.registry import register_env\n",
    "from ray.rllib.env import PettingZooEnv\n",
    "from gym_multigrid.envs.soccer_game import SoccerGame4HEnv10x15N2\n",
    "from pettingzoo.utils import from_parallel as parallel_to_aec\n"
   ]
  },
  {
   "cell_type": "code",
   "execution_count": 17,
   "id": "e06b0cc2-4385-4e6c-9b6c-6a8af0cfdb89",
   "metadata": {},
   "outputs": [
    {
     "ename": "FileNotFoundError",
     "evalue": "[Errno 2] No such file or directory: '/mnt/c/Users/grays/OneDrive/Desktop/github things/CooperativeBehaviour/MARLlib/marllib/marl/../envs/base_env/config/pettingzoo.yaml'",
     "output_type": "error",
     "traceback": [
      "\u001b[0;31m---------------------------------------------------------------------------\u001b[0m",
      "\u001b[0;31mFileNotFoundError\u001b[0m                         Traceback (most recent call last)",
      "Cell \u001b[0;32mIn[17], line 13\u001b[0m\n\u001b[1;32m      9\u001b[0m     \u001b[38;5;28;01mreturn\u001b[39;00m PettingZooEnv(aec_env) \n\u001b[1;32m     11\u001b[0m register_env(\u001b[38;5;124m\"\u001b[39m\u001b[38;5;124mmultigrid_soccer\u001b[39m\u001b[38;5;124m\"\u001b[39m, multigrid_soccer_env)\n\u001b[0;32m---> 13\u001b[0m env \u001b[38;5;241m=\u001b[39m \u001b[43mmarl\u001b[49m\u001b[38;5;241;43m.\u001b[39;49m\u001b[43mmake_env\u001b[49m\u001b[43m(\u001b[49m\n\u001b[1;32m     14\u001b[0m \u001b[43m        \u001b[49m\u001b[43menvironment_name\u001b[49m\u001b[38;5;241;43m=\u001b[39;49m\u001b[38;5;124;43m\"\u001b[39;49m\u001b[38;5;124;43mpettingzoo\u001b[39;49m\u001b[38;5;124;43m\"\u001b[39;49m\u001b[43m,\u001b[49m\u001b[43m     \u001b[49m\u001b[38;5;66;43;03m# generic PettingZoo adapter\u001b[39;49;00m\n\u001b[1;32m     15\u001b[0m \u001b[43m        \u001b[49m\u001b[43mmap_name\u001b[49m\u001b[38;5;241;43m=\u001b[39;49m\u001b[38;5;124;43m\"\u001b[39;49m\u001b[38;5;124;43mmultigrid_soccer\u001b[39;49m\u001b[38;5;124;43m\"\u001b[39;49m\u001b[43m,\u001b[49m\u001b[43m       \u001b[49m\u001b[38;5;66;43;03m# the Ray string we just registered\u001b[39;49;00m\n\u001b[1;32m     16\u001b[0m \u001b[43m        \u001b[49m\u001b[43mforce_coop\u001b[49m\u001b[38;5;241;43m=\u001b[39;49m\u001b[38;5;28;43;01mTrue\u001b[39;49;00m\u001b[43m                    \u001b[49m\u001b[38;5;66;43;03m# optional: flip to full cooperation\u001b[39;49;00m\n\u001b[1;32m     17\u001b[0m \u001b[43m      \u001b[49m\u001b[43m)\u001b[49m\n",
      "File \u001b[0;32m/mnt/c/Users/grays/OneDrive/Desktop/github things/CooperativeBehaviour/MARLlib/marllib/marl/__init__.py:98\u001b[0m, in \u001b[0;36mmake_env\u001b[0;34m(environment_name, map_name, force_coop, abs_path, **env_params)\u001b[0m\n\u001b[1;32m     93\u001b[0m \u001b[38;5;28;01melse\u001b[39;00m:\n\u001b[1;32m     94\u001b[0m     \u001b[38;5;66;03m# default config\u001b[39;00m\n\u001b[1;32m     95\u001b[0m     env_config_file_path \u001b[38;5;241m=\u001b[39m os\u001b[38;5;241m.\u001b[39mpath\u001b[38;5;241m.\u001b[39mjoin(os\u001b[38;5;241m.\u001b[39mpath\u001b[38;5;241m.\u001b[39mdirname(\u001b[38;5;18m__file__\u001b[39m),\n\u001b[1;32m     96\u001b[0m                                         \u001b[38;5;124m\"\u001b[39m\u001b[38;5;124m../envs/base_env/config/\u001b[39m\u001b[38;5;132;01m{}\u001b[39;00m\u001b[38;5;124m.yaml\u001b[39m\u001b[38;5;124m\"\u001b[39m\u001b[38;5;241m.\u001b[39mformat(environment_name))\n\u001b[0;32m---> 98\u001b[0m \u001b[38;5;28;01mwith\u001b[39;00m \u001b[38;5;28;43mopen\u001b[39;49m\u001b[43m(\u001b[49m\u001b[43menv_config_file_path\u001b[49m\u001b[43m,\u001b[49m\u001b[43m \u001b[49m\u001b[38;5;124;43m\"\u001b[39;49m\u001b[38;5;124;43mr\u001b[39;49m\u001b[38;5;124;43m\"\u001b[39;49m\u001b[43m)\u001b[49m \u001b[38;5;28;01mas\u001b[39;00m f:\n\u001b[1;32m     99\u001b[0m     env_config_dict \u001b[38;5;241m=\u001b[39m yaml\u001b[38;5;241m.\u001b[39mload(f, Loader\u001b[38;5;241m=\u001b[39myaml\u001b[38;5;241m.\u001b[39mFullLoader)\n\u001b[1;32m    100\u001b[0m     f\u001b[38;5;241m.\u001b[39mclose()\n",
      "\u001b[0;31mFileNotFoundError\u001b[0m: [Errno 2] No such file or directory: '/mnt/c/Users/grays/OneDrive/Desktop/github things/CooperativeBehaviour/MARLlib/marllib/marl/../envs/base_env/config/pettingzoo.yaml'"
     ]
    }
   ],
   "source": [
    "\n",
    "def multigrid_soccer_env(config):\n",
    "    raw_env = SoccerGame4HEnv10x15N2()         # > implements the Parallel API\n",
    "    aec_env = parallel_to_aec(raw_env)         # > AEC that Ray understands\n",
    "    return PettingZooEnv(aec_env) \n",
    "\n",
    "register_env(\"multigrid_soccer\", multigrid_soccer_env)\n",
    "\n",
    "env = marl.make_env(\n",
    "        environment_name=\"pettingzoo\",     # generic PettingZoo adapter\n",
    "        map_name=\"multigrid_soccer\",       # the Ray string we just registered\n",
    "        force_coop=True                    # optional: flip to full cooperation\n",
    "      )\n"
   ]
  },
  {
   "cell_type": "code",
   "execution_count": 16,
   "id": "a37c28c0-4b00-4039-900b-6d4f91873bbe",
   "metadata": {},
   "outputs": [
    {
     "data": {
      "text/plain": [
       "['__annotations__',\n",
       " '__call__',\n",
       " '__class__',\n",
       " '__closure__',\n",
       " '__code__',\n",
       " '__defaults__',\n",
       " '__delattr__',\n",
       " '__dict__',\n",
       " '__dir__',\n",
       " '__doc__',\n",
       " '__eq__',\n",
       " '__format__',\n",
       " '__ge__',\n",
       " '__get__',\n",
       " '__getattribute__',\n",
       " '__globals__',\n",
       " '__gt__',\n",
       " '__hash__',\n",
       " '__init__',\n",
       " '__init_subclass__',\n",
       " '__kwdefaults__',\n",
       " '__le__',\n",
       " '__lt__',\n",
       " '__module__',\n",
       " '__name__',\n",
       " '__ne__',\n",
       " '__new__',\n",
       " '__qualname__',\n",
       " '__reduce__',\n",
       " '__reduce_ex__',\n",
       " '__repr__',\n",
       " '__setattr__',\n",
       " '__sizeof__',\n",
       " '__str__',\n",
       " '__subclasshook__']"
      ]
     },
     "execution_count": 16,
     "metadata": {},
     "output_type": "execute_result"
    }
   ],
   "source": [
    "dir(parallel_to_aec)"
   ]
  },
  {
   "cell_type": "code",
   "execution_count": 3,
   "id": "5083d3db-8fe4-455e-bf1f-6d4628dc07c2",
   "metadata": {},
   "outputs": [
    {
     "ename": "NameError",
     "evalue": "name 'env' is not defined",
     "output_type": "error",
     "traceback": [
      "\u001b[0;31m---------------------------------------------------------------------------\u001b[0m",
      "\u001b[0;31mNameError\u001b[0m                                 Traceback (most recent call last)",
      "Cell \u001b[0;32mIn[3], line 1\u001b[0m\n\u001b[0;32m----> 1\u001b[0m _ \u001b[38;5;241m=\u001b[39m \u001b[43menv\u001b[49m\u001b[38;5;241m.\u001b[39mreset()\n\u001b[1;32m      2\u001b[0m nb_agents \u001b[38;5;241m=\u001b[39m \u001b[38;5;28mlen\u001b[39m(env\u001b[38;5;241m.\u001b[39magents)\n\u001b[1;32m      4\u001b[0m \u001b[38;5;28;01mfor\u001b[39;00m _ \u001b[38;5;129;01min\u001b[39;00m \u001b[38;5;28mrange\u001b[39m(\u001b[38;5;241m1\u001b[39m):\n\u001b[1;32m      5\u001b[0m     \u001b[38;5;66;03m#env.render(highlight=True)\u001b[39;00m\n",
      "\u001b[0;31mNameError\u001b[0m: name 'env' is not defined"
     ]
    }
   ],
   "source": [
    "_ = env.reset()\n",
    "nb_agents = len(env.agents)\n",
    "\n",
    "for _ in range(1):\n",
    "    #env.render(highlight=True)\n",
    "    time.sleep(0.1)\n",
    "    \n",
    "    ac = [env.action_space.sample() for _ in range(nb_agents)]\n",
    "    #ac = [0] * nb_agents\n",
    "    \n",
    "    obs, _, done, _ = env.step(ac)\n",
    "    print(\"Num Agents = \", len(obs))\n",
    "    print(\"Obs shape = \", obs[0].T.shape)\n",
    "    \n",
    "    if done:\n",
    "        break"
   ]
  },
  {
   "cell_type": "code",
   "execution_count": 45,
   "id": "026a4956-3d10-45fe-a054-a19db61ae57e",
   "metadata": {},
   "outputs": [],
   "source": [
    "# Agent\n",
    "import numpy as np\n",
    "import argparse\n",
    "import gym\n",
    "from mappo.onpolicy.algorithms.r_mappo.r_mappo import R_MAPPO\n",
    "from mappo.onpolicy.algorithms.r_mappo.algorithm.rMAPPOPolicy import R_MAPPOPolicy as policy\n",
    "from mappo.onpolicy.config import get_config"
   ]
  },
  {
   "cell_type": "code",
   "execution_count": 46,
   "id": "48e9fbe4-39e0-4987-850d-7c5b35453203",
   "metadata": {},
   "outputs": [],
   "source": [
    "''' rMAPPOPolicy wants a centralized observation space as well. In this case, what we could do is output the whole grid, but that might\n",
    "cause some unnessessary strife here. It's probably easier in this case to just throw all of the observations into one array.'''\n",
    "\n",
    "obs_shape = obs[0].T.shape\n",
    "obs_shape = gym.spaces.Box(0, 32*32, obs_shape)\n",
    "\n",
    "action_space = gym.spaces.Discrete(3) # One hot encoded action space\n",
    "\n",
    "cent_obs_space = np.array([4, 6, 7, 7])\n",
    "cent_obs_space = gym.spaces.Box(0, 32*32, cent_obs_space)\n",
    "\n",
    "# Gets the default arguments for the policy in question\n",
    "parser = get_config()                        # build the ArgumentParser\n",
    "args   = parser.parse_args([])               # empty list ⇒ use every default\n",
    "#print(vars(args))\n",
    "\n",
    "p = policy(args, obs_space = obs_shape, cent_obs_space = cent_obs_space, act_space = action_space)\n",
    "agent = R_MAPPO(args, policy)"
   ]
  },
  {
   "cell_type": "code",
   "execution_count": null,
   "id": "d3627e1a-bc31-40f0-9bbc-dbee30b5de2a",
   "metadata": {},
   "outputs": [],
   "source": []
  }
 ],
 "metadata": {
  "kernelspec": {
   "display_name": "Python (cooperative)",
   "language": "python",
   "name": "cooperative"
  },
  "language_info": {
   "codemirror_mode": {
    "name": "ipython",
    "version": 3
   },
   "file_extension": ".py",
   "mimetype": "text/x-python",
   "name": "python",
   "nbconvert_exporter": "python",
   "pygments_lexer": "ipython3",
   "version": "3.8.20"
  }
 },
 "nbformat": 4,
 "nbformat_minor": 5
}
