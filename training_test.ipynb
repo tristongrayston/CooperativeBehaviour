{
 "cells": [
  {
   "cell_type": "code",
   "execution_count": 1,
   "id": "ea8bc1cb-b71b-446d-8975-7a7a1858c9a9",
   "metadata": {},
   "outputs": [
    {
     "name": "stderr",
     "output_type": "stream",
     "text": [
      "2025-05-04 20:47:26,265\tINFO util.py:154 -- Outdated packages:\n",
      "  ipywidgets==7.7.2 found, needs ipywidgets>=8\n",
      "Run `pip install -U ipywidgets`, then restart the notebook server for rich notebook output.\n",
      "2025-05-04 20:47:31,016\tINFO util.py:154 -- Outdated packages:\n",
      "  ipywidgets==7.7.2 found, needs ipywidgets>=8\n",
      "Run `pip install -U ipywidgets`, then restart the notebook server for rich notebook output.\n"
     ]
    },
    {
     "ename": "ModuleNotFoundError",
     "evalue": "No module named 'marllib'",
     "output_type": "error",
     "traceback": [
      "\u001b[0;31m---------------------------------------------------------------------------\u001b[0m",
      "\u001b[0;31mModuleNotFoundError\u001b[0m                       Traceback (most recent call last)",
      "Cell \u001b[0;32mIn[1], line 7\u001b[0m\n\u001b[1;32m      5\u001b[0m \u001b[38;5;28;01mfrom\u001b[39;00m \u001b[38;5;21;01mray\u001b[39;00m\u001b[38;5;21;01m.\u001b[39;00m\u001b[38;5;21;01mrllib\u001b[39;00m\u001b[38;5;21;01m.\u001b[39;00m\u001b[38;5;21;01malgorithms\u001b[39;00m\u001b[38;5;21;01m.\u001b[39;00m\u001b[38;5;21;01mppo\u001b[39;00m \u001b[38;5;28;01mimport\u001b[39;00m PPOConfig\n\u001b[1;32m      6\u001b[0m \u001b[38;5;28;01mfrom\u001b[39;00m \u001b[38;5;21;01mray\u001b[39;00m\u001b[38;5;21;01m.\u001b[39;00m\u001b[38;5;21;01mrllib\u001b[39;00m\u001b[38;5;21;01m.\u001b[39;00m\u001b[38;5;21;01mconnectors\u001b[39;00m\u001b[38;5;21;01m.\u001b[39;00m\u001b[38;5;21;01menv_to_module\u001b[39;00m \u001b[38;5;28;01mimport\u001b[39;00m FlattenObservations\n\u001b[0;32m----> 7\u001b[0m \u001b[38;5;28;01mfrom\u001b[39;00m \u001b[38;5;21;01mmarllib\u001b[39;00m \u001b[38;5;28;01mimport\u001b[39;00m marl\n",
      "\u001b[0;31mModuleNotFoundError\u001b[0m: No module named 'marllib'"
     ]
    }
   ],
   "source": [
    "import gym\n",
    "import time\n",
    "from gym.envs.registration import register\n",
    "import argparse\n",
    "from ray.rllib.algorithms.ppo import PPOConfig\n",
    "from ray.rllib.connectors.env_to_module import FlattenObservations\n",
    "from marllib import marl"
   ]
  },
  {
   "cell_type": "code",
   "execution_count": 2,
   "id": "7ac42a84-5466-4971-9ba2-bf364ba0a1b0",
   "metadata": {},
   "outputs": [],
   "source": [
    "register(\n",
    "            id='multigrid-collect-v0',\n",
    "            entry_point='gym_multigrid.envs:CollectGame4HEnv10x10N2',\n",
    "        )\n",
    "env = gym.make('multigrid-collect-v0')"
   ]
  },
  {
   "cell_type": "code",
   "execution_count": 7,
   "id": "5083d3db-8fe4-455e-bf1f-6d4628dc07c2",
   "metadata": {},
   "outputs": [
    {
     "name": "stdout",
     "output_type": "stream",
     "text": [
      "Num Agents =  3\n",
      "Obs shape =  (6, 7, 7)\n"
     ]
    }
   ],
   "source": [
    "_ = env.reset()\n",
    "nb_agents = len(env.agents)\n",
    "\n",
    "for _ in range(1):\n",
    "    env.render(highlight=True)\n",
    "    time.sleep(0.1)\n",
    "    \n",
    "    ac = [env.action_space.sample() for _ in range(nb_agents)]\n",
    "    #ac = [0] * nb_agents\n",
    "    \n",
    "    obs, _, done, _ = env.step(ac)\n",
    "    print(\"Num Agents = \", len(obs))\n",
    "    print(\"Obs shape = \", obs[0].T.shape)\n",
    "    \n",
    "    if done:\n",
    "        break"
   ]
  },
  {
   "cell_type": "code",
   "execution_count": null,
   "id": "48e9fbe4-39e0-4987-850d-7c5b35453203",
   "metadata": {},
   "outputs": [],
   "source": []
  }
 ],
 "metadata": {
  "kernelspec": {
   "display_name": "Python 3 (ipykernel)",
   "language": "python",
   "name": "python3"
  },
  "language_info": {
   "codemirror_mode": {
    "name": "ipython",
    "version": 3
   },
   "file_extension": ".py",
   "mimetype": "text/x-python",
   "name": "python",
   "nbconvert_exporter": "python",
   "pygments_lexer": "ipython3",
   "version": "3.10.12"
  }
 },
 "nbformat": 4,
 "nbformat_minor": 5
}
