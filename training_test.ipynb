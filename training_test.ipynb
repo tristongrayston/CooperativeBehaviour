{
 "cells": [
  {
   "cell_type": "code",
   "execution_count": 1,
   "id": "3f76c9d5-de59-46ca-ad88-1d77c25a0c25",
   "metadata": {},
   "outputs": [
    {
     "name": "stdout",
     "output_type": "stream",
     "text": [
      "Defaulting to user installation because normal site-packages is not writeable\n",
      "Requirement already satisfied: ipywidgets in /home/tristongrayston/.local/lib/python3.10/site-packages (7.7.2)\n",
      "Collecting ipywidgets\n",
      "  Downloading ipywidgets-8.1.7-py3-none-any.whl.metadata (2.4 kB)\n",
      "Requirement already satisfied: comm>=0.1.3 in /home/tristongrayston/.local/lib/python3.10/site-packages (from ipywidgets) (0.2.2)\n",
      "Requirement already satisfied: ipython>=6.1.0 in /home/tristongrayston/.local/lib/python3.10/site-packages (from ipywidgets) (8.32.0)\n",
      "Requirement already satisfied: traitlets>=4.3.1 in /home/tristongrayston/.local/lib/python3.10/site-packages (from ipywidgets) (5.14.3)\n",
      "Collecting widgetsnbextension~=4.0.14 (from ipywidgets)\n",
      "  Downloading widgetsnbextension-4.0.14-py3-none-any.whl.metadata (1.6 kB)\n",
      "Collecting jupyterlab_widgets~=3.0.15 (from ipywidgets)\n",
      "  Downloading jupyterlab_widgets-3.0.15-py3-none-any.whl.metadata (20 kB)\n",
      "Requirement already satisfied: decorator in /home/tristongrayston/.local/lib/python3.10/site-packages (from ipython>=6.1.0->ipywidgets) (4.4.2)\n",
      "Requirement already satisfied: exceptiongroup in /home/tristongrayston/.local/lib/python3.10/site-packages (from ipython>=6.1.0->ipywidgets) (1.2.1)\n",
      "Requirement already satisfied: jedi>=0.16 in /home/tristongrayston/.local/lib/python3.10/site-packages (from ipython>=6.1.0->ipywidgets) (0.19.1)\n",
      "Requirement already satisfied: matplotlib-inline in /home/tristongrayston/.local/lib/python3.10/site-packages (from ipython>=6.1.0->ipywidgets) (0.1.7)\n",
      "Requirement already satisfied: pexpect>4.3 in /home/tristongrayston/.local/lib/python3.10/site-packages (from ipython>=6.1.0->ipywidgets) (4.9.0)\n",
      "Requirement already satisfied: prompt_toolkit<3.1.0,>=3.0.41 in /home/tristongrayston/.local/lib/python3.10/site-packages (from ipython>=6.1.0->ipywidgets) (3.0.47)\n",
      "Requirement already satisfied: pygments>=2.4.0 in /home/tristongrayston/.local/lib/python3.10/site-packages (from ipython>=6.1.0->ipywidgets) (2.18.0)\n",
      "Requirement already satisfied: stack_data in /home/tristongrayston/.local/lib/python3.10/site-packages (from ipython>=6.1.0->ipywidgets) (0.6.3)\n",
      "Requirement already satisfied: typing_extensions>=4.6 in /home/tristongrayston/.local/lib/python3.10/site-packages (from ipython>=6.1.0->ipywidgets) (4.12.2)\n",
      "Requirement already satisfied: wcwidth in /home/tristongrayston/.local/lib/python3.10/site-packages (from prompt_toolkit<3.1.0,>=3.0.41->ipython>=6.1.0->ipywidgets) (0.2.13)\n",
      "Requirement already satisfied: parso<0.9.0,>=0.8.3 in /home/tristongrayston/.local/lib/python3.10/site-packages (from jedi>=0.16->ipython>=6.1.0->ipywidgets) (0.8.4)\n",
      "Requirement already satisfied: ptyprocess>=0.5 in /home/tristongrayston/.local/lib/python3.10/site-packages (from pexpect>4.3->ipython>=6.1.0->ipywidgets) (0.7.0)\n",
      "Requirement already satisfied: executing>=1.2.0 in /home/tristongrayston/.local/lib/python3.10/site-packages (from stack_data->ipython>=6.1.0->ipywidgets) (2.0.1)\n",
      "Requirement already satisfied: asttokens>=2.1.0 in /home/tristongrayston/.local/lib/python3.10/site-packages (from stack_data->ipython>=6.1.0->ipywidgets) (2.4.1)\n",
      "Requirement already satisfied: pure-eval in /home/tristongrayston/.local/lib/python3.10/site-packages (from stack_data->ipython>=6.1.0->ipywidgets) (0.2.2)\n",
      "Requirement already satisfied: six>=1.12.0 in /home/tristongrayston/.local/lib/python3.10/site-packages (from asttokens>=2.1.0->stack_data->ipython>=6.1.0->ipywidgets) (1.16.0)\n",
      "Downloading ipywidgets-8.1.7-py3-none-any.whl (139 kB)\n",
      "Downloading jupyterlab_widgets-3.0.15-py3-none-any.whl (216 kB)\n",
      "Downloading widgetsnbextension-4.0.14-py3-none-any.whl (2.2 MB)\n",
      "\u001b[2K   \u001b[90m━━━━━━━━━━━━━━━━━━━━━━━━━━━━━━━━━━━━━━━━\u001b[0m \u001b[32m2.2/2.2 MB\u001b[0m \u001b[31m25.9 MB/s\u001b[0m eta \u001b[36m0:00:00\u001b[0m\n",
      "Installing collected packages: widgetsnbextension, jupyterlab_widgets, ipywidgets\n",
      "\u001b[2K  Attempting uninstall: widgetsnbextension\n",
      "\u001b[2K    Found existing installation: widgetsnbextension 3.6.7\n",
      "\u001b[2K    Uninstalling widgetsnbextension-3.6.7:\n",
      "\u001b[2K      Successfully uninstalled widgetsnbextension-3.6.7\n",
      "\u001b[2K  Attempting uninstall: jupyterlab_widgets\n",
      "\u001b[2K    Found existing installation: jupyterlab_widgets 1.1.8\n",
      "\u001b[2K    Uninstalling jupyterlab_widgets-1.1.8:\n",
      "\u001b[2K      Successfully uninstalled jupyterlab_widgets-1.1.8\n",
      "\u001b[2K  Attempting uninstall: ipywidgets\n",
      "\u001b[2K    Found existing installation: ipywidgets 7.7.2\n",
      "\u001b[2K    Uninstalling ipywidgets-7.7.2:\n",
      "\u001b[2K      Successfully uninstalled ipywidgets-7.7.2\n",
      "\u001b[2K   \u001b[90m━━━━━━━━━━━━━━━━━━━━━━━━━━━━━━━━━━━━━━━━\u001b[0m \u001b[32m3/3\u001b[0m [ipywidgets]3\u001b[0m [ipywidgets]\n",
      "\u001b[1A\u001b[2KSuccessfully installed ipywidgets-8.1.7 jupyterlab_widgets-3.0.15 widgetsnbextension-4.0.14\n"
     ]
    }
   ],
   "source": [
    "!pip install -U ipywidgets"
   ]
  },
  {
   "cell_type": "code",
   "execution_count": 9,
   "id": "ea8bc1cb-b71b-446d-8975-7a7a1858c9a9",
   "metadata": {},
   "outputs": [],
   "source": [
    "import gym\n",
    "import time\n",
    "from gym.envs.registration import register\n",
    "import argparse\n",
    "from ray.rllib.algorithms.ppo import PPOConfig\n",
    "from ray.rllib.connectors.env_to_module import FlattenObservations"
   ]
  },
  {
   "cell_type": "code",
   "execution_count": 4,
   "id": "7ac42a84-5466-4971-9ba2-bf364ba0a1b0",
   "metadata": {},
   "outputs": [],
   "source": [
    "register(\n",
    "            id='multigrid-collect-v0',\n",
    "            entry_point='gym_multigrid.envs:CollectGame4HEnv10x10N2',\n",
    "        )\n",
    "env = gym.make('multigrid-collect-v0')"
   ]
  },
  {
   "cell_type": "code",
   "execution_count": 44,
   "id": "5083d3db-8fe4-455e-bf1f-6d4628dc07c2",
   "metadata": {},
   "outputs": [
    {
     "name": "stdout",
     "output_type": "stream",
     "text": [
      "Num Agents =  3\n",
      "Obs shape =  (6, 7, 7)\n"
     ]
    }
   ],
   "source": [
    "_ = env.reset()\n",
    "nb_agents = len(env.agents)\n",
    "\n",
    "for _ in range(1):\n",
    "    #env.render(highlight=True)\n",
    "    time.sleep(0.1)\n",
    "    \n",
    "    ac = [env.action_space.sample() for _ in range(nb_agents)]\n",
    "    #ac = [0] * nb_agents\n",
    "    \n",
    "    obs, _, done, _ = env.step(ac)\n",
    "    print(\"Num Agents = \", len(obs))\n",
    "    print(\"Obs shape = \", obs[0].T.shape)\n",
    "    \n",
    "    if done:\n",
    "        break"
   ]
  },
  {
   "cell_type": "code",
   "execution_count": 45,
   "id": "026a4956-3d10-45fe-a054-a19db61ae57e",
   "metadata": {},
   "outputs": [],
   "source": [
    "# Agent\n",
    "import numpy as np\n",
    "import argparse\n",
    "import gym\n",
    "from mappo.onpolicy.algorithms.r_mappo.r_mappo import R_MAPPO\n",
    "from mappo.onpolicy.algorithms.r_mappo.algorithm.rMAPPOPolicy import R_MAPPOPolicy as policy\n",
    "from mappo.onpolicy.config import get_config"
   ]
  },
  {
   "cell_type": "code",
   "execution_count": 46,
   "id": "48e9fbe4-39e0-4987-850d-7c5b35453203",
   "metadata": {},
   "outputs": [],
   "source": [
    "''' rMAPPOPolicy wants a centralized observation space as well. In this case, what we could do is output the whole grid, but that might\n",
    "cause some unnessessary strife here. It's probably easier in this case to just throw all of the observations into one array.'''\n",
    "\n",
    "obs_shape = obs[0].T.shape\n",
    "obs_shape = gym.spaces.Box(0, 32*32, obs_shape)\n",
    "\n",
    "action_space = gym.spaces.Discrete(3) # One hot encoded action space\n",
    "\n",
    "cent_obs_space = np.array([4, 6, 7, 7])\n",
    "cent_obs_space = gym.spaces.Box(0, 32*32, cent_obs_space)\n",
    "\n",
    "# Gets the default arguments for the policy in question\n",
    "parser = get_config()                        # build the ArgumentParser\n",
    "args   = parser.parse_args([])               # empty list ⇒ use every default\n",
    "#print(vars(args))\n",
    "\n",
    "p = policy(args, obs_space = obs_shape, cent_obs_space = cent_obs_space, act_space = action_space)\n",
    "agent = R_MAPPO(args, policy)"
   ]
  },
  {
   "cell_type": "code",
   "execution_count": null,
   "id": "d3627e1a-bc31-40f0-9bbc-dbee30b5de2a",
   "metadata": {},
   "outputs": [],
   "source": []
  }
 ],
 "metadata": {
  "kernelspec": {
   "display_name": "Python 3 (ipykernel)",
   "language": "python",
   "name": "python3"
  },
  "language_info": {
   "codemirror_mode": {
    "name": "ipython",
    "version": 3
   },
   "file_extension": ".py",
   "mimetype": "text/x-python",
   "name": "python",
   "nbconvert_exporter": "python",
   "pygments_lexer": "ipython3",
   "version": "3.10.12"
  }
 },
 "nbformat": 4,
 "nbformat_minor": 5
}
